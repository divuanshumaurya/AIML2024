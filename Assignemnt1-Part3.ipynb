{
  "nbformat": 4,
  "nbformat_minor": 0,
  "metadata": {
    "colab": {
      "provenance": []
    },
    "kernelspec": {
      "name": "python3",
      "display_name": "Python 3"
    },
    "language_info": {
      "name": "python"
    }
  },
  "cells": [
    {
      "cell_type": "code",
      "execution_count": 1,
      "metadata": {
        "colab": {
          "base_uri": "https://localhost:8080/"
        },
        "id": "JJBKntPRZNWz",
        "outputId": "9e2e7ca8-c869-4051-f4ff-28c20972ec93"
      },
      "outputs": [
        {
          "output_type": "stream",
          "name": "stdout",
          "text": [
            "   Unnamed: 0  Unnamed: 1  Unnamed: 2 Unnamed: 3     Unnamed: 4 Unnamed: 5  \\\n",
            "0         NaN         NaN         NaN        NaN            NaN        NaN   \n",
            "1         NaN         NaN         NaN        NaN            NaN        NaN   \n",
            "2         NaN         NaN         NaN        NaN            NaN        NaN   \n",
            "3         NaN         NaN         NaN       S.no           Name    Roll No   \n",
            "4         NaN         NaN         NaN          1  varshinini.k          30   \n",
            "\n",
            "  Unnamed: 6  \n",
            "0        NaN  \n",
            "1        NaN  \n",
            "2        NaN  \n",
            "3       CGPA  \n",
            "4        8.5  \n"
          ]
        }
      ],
      "source": [
        "import pandas as pd\n",
        "\n",
        "# Specify the path to your Excel file\n",
        "excel_file_path = \"/content/Table.xlsx\"\n",
        "\n",
        "# Read the Excel file\n",
        "df = pd.read_excel(excel_file_path)\n",
        "\n",
        "# Now you can work with the DataFrame 'df'\n",
        "print(df.head())"
      ]
    },
    {
      "cell_type": "code",
      "source": [
        "import pandas as pd\n",
        "\n",
        "# Specify the path to your Excel file\n",
        "csv_file_path = \"/content/Table.csv\"\n",
        "\n",
        "# Read the Excel file\n",
        "df = pd.read_csv(csv_file_path)\n",
        "\n",
        "# Now you can work with the DataFrame 'df'\n",
        "print(df.head())"
      ],
      "metadata": {
        "colab": {
          "base_uri": "https://localhost:8080/"
        },
        "id": "7oZajwItZcVB",
        "outputId": "c524fd8a-b126-4a2f-b2e5-59d429c4b7af"
      },
      "execution_count": 2,
      "outputs": [
        {
          "output_type": "stream",
          "name": "stdout",
          "text": [
            "   S.no           Name  Roll No  CGPA\n",
            "0     1  varshinini.k        30   8.5\n",
            "1     2      manaswini       50   9.0\n",
            "2     3        chaitri       55   7.8\n",
            "3     4       pranathi       60   7.5\n"
          ]
        }
      ]
    },
    {
      "cell_type": "code",
      "source": [
        "import pandas as pd\n",
        "\n",
        "# Specify the path to your Excel file\n",
        "csv_file_path = \"/content/Table.txt\"\n",
        "\n",
        "# Read the Excel file\n",
        "df = pd.read_csv(csv_file_path)\n",
        "\n",
        "# Now you can work with the DataFrame 'df'\n",
        "print(df.head())"
      ],
      "metadata": {
        "colab": {
          "base_uri": "https://localhost:8080/"
        },
        "id": "K9z12H9RacNG",
        "outputId": "4d1cd42b-d958-423b-dc44-185367e98f7c"
      },
      "execution_count": 5,
      "outputs": [
        {
          "output_type": "stream",
          "name": "stdout",
          "text": [
            "   S.no\\tName\\tRoll No\\tCGPA\n",
            "0  1\\tvarshinini.k \\t30\\t8.5\n",
            "1        2\\tmanaswini\\t50\\t9\n",
            "2        3\\tchaitri\\t55\\t7.8\n",
            "3       4\\tpranathi\\t60\\t7.5\n"
          ]
        }
      ]
    }
  ]
}